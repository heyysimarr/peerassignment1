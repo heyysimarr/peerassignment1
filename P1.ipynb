{
 "cells": [
  {
   "cell_type": "markdown",
   "metadata": {},
   "source": [
    "# My data science notebook"
   ]
  },
  {
   "cell_type": "markdown",
   "metadata": {},
   "source": []
  },
  {
   "cell_type": "markdown",
   "metadata": {},
   "source": [
    "## Introduction\n",
    "\n",
    "Welcome to my Data Science Notebook! In this notebook, I will explore various concepts, demonstrate coding examples, and showcase the power of data science tools. Feel free to follow along and experiment with the code snippets. Let's dive into the exciting world of data science!\n"
   ]
  },
  {
   "cell_type": "markdown",
   "metadata": {},
   "source": []
  },
  {
   "cell_type": "markdown",
   "metadata": {},
   "source": [
    "## Data Science Languages\n",
    "\n",
    "1. R\n",
    "2. Python\n",
    "3. Julia"
   ]
  },
  {
   "cell_type": "markdown",
   "metadata": {},
   "source": [
    "## Data Science Libraries\n",
    "\n",
    "- ggplot\n",
    "- pandas\n",
    "- caret\n",
    "- scikit-learn\n"
   ]
  },
  {
   "cell_type": "markdown",
   "metadata": {},
   "source": [
    "## Data Science Tools\n",
    "\n",
    "| Tool          | Description                                |\n",
    "| ------------- | ------------------------------------------ |\n",
    "| Jupyter       | Interactive computing environment          |\n",
    "| RStudio       | Integrated Development Environment (IDE)   |\n",
    "| VS Code       | Lightweight code editor                    |\n",
    "| Git           | Version control system                     |\n",
    "| GitHub        | Collaboration platform for code repositories|"
   ]
  },
  {
   "cell_type": "markdown",
   "metadata": {},
   "source": [
    "## Arithmetic Expression Examples in Python\n",
    "\n",
    "In this section, we'll explore some arithmetic expressions using Python.\n",
    "\n",
    "### Multiplication and Addition (python)\n",
    "\n",
    "\n",
    "# Multiplication\n",
    "result_multiply = 5 * 3\n",
    "\n",
    "# Addition\n",
    "result_addition = 5 + 3"
   ]
  },
  {
   "cell_type": "code",
   "execution_count": null,
   "metadata": {},
   "outputs": [
    {
     "name": "stdout",
     "output_type": "stream",
     "text": [
      "15\n",
      "8\n"
     ]
    }
   ],
   "source": [
    "result_multiply = 5 * 3\n",
    "result_addition = 5 + 3\n",
    "\n",
    "print(result_multiply)\n",
    "print(result_addition)"
   ]
  },
  {
   "cell_type": "code",
   "execution_count": null,
   "metadata": {},
   "outputs": [],
   "source": [
    "def convert_minutes_to_hours(minutes):\n",
    "    hours = minutes / 60\n",
    "    return hours\n",
    "\n"
   ]
  },
  {
   "cell_type": "markdown",
   "metadata": {},
   "source": [
    "## Objectives\n",
    "\n",
    "Demonstrate knowledge of data science languages and libraries.\n",
    "Showcase proficiency in using data science tools.\n",
    "Provide examples of arithmetic expressions in python.\n",
    "Convert minutes to hours using python."
   ]
  },
  {
   "cell_type": "markdown",
   "metadata": {},
   "source": [
    "Author :- Simardeep singh"
   ]
  }
 ],
 "metadata": {
  "kernelspec": {
   "display_name": "Python 3",
   "language": "python",
   "name": "python3"
  },
  "language_info": {
   "codemirror_mode": {
    "name": "ipython",
    "version": 3
   },
   "file_extension": ".py",
   "mimetype": "text/x-python",
   "name": "python",
   "nbconvert_exporter": "python",
   "pygments_lexer": "ipython3",
   "version": "3.12.1"
  },
  "orig_nbformat": 4
 },
 "nbformat": 4,
 "nbformat_minor": 2
}
